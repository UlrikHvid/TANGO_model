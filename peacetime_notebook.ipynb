{
 "cells": [
  {
   "cell_type": "code",
   "execution_count": 2,
   "metadata": {},
   "outputs": [],
   "source": [
    "import matplotlib.pyplot as plt\n",
    "from matplotlib.colors import Normalize,LogNorm\n",
    "import matplotlib.ticker as ticker\n",
    "from matplotlib.cm import ScalarMappable\n",
    "savefig = False\n",
    "import importlib\n",
    "import tango_model as tango_model\n",
    "import sys\n",
    "importlib.reload(sys.modules['tango_model'])\n",
    "from tango_model import *\n",
    "import scipy as sp\n",
    "import torch\n",
    "import networkx as nx\n",
    "\n",
    "# Import the degree distribution CCDF from SEXUS\n",
    "degree_dist_ccdf_sexus = np.genfromtxt('Data/Degree_dist_CCDF_SEXUS.csv', delimiter=',', skip_header=1)"
   ]
  },
  {
   "cell_type": "code",
   "execution_count": 3,
   "metadata": {},
   "outputs": [
    {
     "name": "stderr",
     "output_type": "stream",
     "text": [
      "  3%|▎         | 170/5475 [00:09<04:55, 17.96it/s]\n"
     ]
    },
    {
     "ename": "KeyboardInterrupt",
     "evalue": "",
     "output_type": "error",
     "traceback": [
      "\u001b[0;31m---------------------------------------------------------------------------\u001b[0m",
      "\u001b[0;31mKeyboardInterrupt\u001b[0m                         Traceback (most recent call last)",
      "Cell \u001b[0;32mIn[3], line 18\u001b[0m\n\u001b[1;32m     16\u001b[0m \u001b[38;5;66;03m# Initialize peacetime parameters and run the simulation\u001b[39;00m\n\u001b[1;32m     17\u001b[0m simulation\u001b[38;5;241m.\u001b[39minitialize_peace_time(T\u001b[38;5;241m=\u001b[39mT, Twindow\u001b[38;5;241m=\u001b[39mwindow, progress\u001b[38;5;241m=\u001b[39m\u001b[38;5;28;01mTrue\u001b[39;00m, all_conn\u001b[38;5;241m=\u001b[39m\u001b[38;5;28;01mFalse\u001b[39;00m,T_track\u001b[38;5;241m=\u001b[39mT_track,n_couples\u001b[38;5;241m=\u001b[39mn_couples)\n\u001b[0;32m---> 18\u001b[0m \u001b[43msimulation\u001b[49m\u001b[38;5;241;43m.\u001b[39;49m\u001b[43mrun_peace_time_simulation\u001b[49m\u001b[43m(\u001b[49m\u001b[43m)\u001b[49m\n",
      "File \u001b[0;32m~/Documents/GitHub/TANGO_model/tango_model.py:415\u001b[0m, in \u001b[0;36mEpidemicSimulation.run_peace_time_simulation\u001b[0;34m(self)\u001b[0m\n\u001b[1;32m    413\u001b[0m \u001b[38;5;28;01mif\u001b[39;00m t \u001b[38;5;241m>\u001b[39m\u001b[38;5;241m=\u001b[39m (\u001b[38;5;28mself\u001b[39m\u001b[38;5;241m.\u001b[39mT \u001b[38;5;241m-\u001b[39m \u001b[38;5;28mself\u001b[39m\u001b[38;5;241m.\u001b[39mTwindow):\n\u001b[1;32m    414\u001b[0m     \u001b[38;5;28mself\u001b[39m\u001b[38;5;241m.\u001b[39mlog \u001b[38;5;241m=\u001b[39m \u001b[38;5;28;01mTrue\u001b[39;00m\n\u001b[0;32m--> 415\u001b[0m \u001b[38;5;28;43mself\u001b[39;49m\u001b[38;5;241;43m.\u001b[39;49m\u001b[43miterate_peace_time\u001b[49m\u001b[43m(\u001b[49m\u001b[43m)\u001b[49m\n",
      "File \u001b[0;32m~/Documents/GitHub/TANGO_model/tango_model.py:401\u001b[0m, in \u001b[0;36mEpidemicSimulation.iterate_peace_time\u001b[0;34m(self)\u001b[0m\n\u001b[1;32m    399\u001b[0m \u001b[38;5;28;01mdef\u001b[39;00m \u001b[38;5;21miterate_peace_time\u001b[39m(\u001b[38;5;28mself\u001b[39m):\n\u001b[1;32m    400\u001b[0m     \u001b[38;5;28mself\u001b[39m\u001b[38;5;241m.\u001b[39mupdate_seeking()\n\u001b[0;32m--> 401\u001b[0m     \u001b[38;5;28;43mself\u001b[39;49m\u001b[38;5;241;43m.\u001b[39;49m\u001b[43mmake_old_connects\u001b[49m\u001b[43m(\u001b[49m\u001b[43m)\u001b[49m\n\u001b[1;32m    403\u001b[0m     new_seek_counts \u001b[38;5;241m=\u001b[39m \u001b[38;5;28mself\u001b[39m\u001b[38;5;241m.\u001b[39massign_counts()\n\u001b[1;32m    404\u001b[0m     \u001b[38;5;28mself\u001b[39m\u001b[38;5;241m.\u001b[39mmake_new_connects(new_seek_counts)\n",
      "File \u001b[0;32m~/Documents/GitHub/TANGO_model/tango_model.py:100\u001b[0m, in \u001b[0;36mEpidemicSimulation.make_old_connects\u001b[0;34m(self)\u001b[0m\n\u001b[1;32m     98\u001b[0m \u001b[38;5;66;03m# Remove connections\u001b[39;00m\n\u001b[1;32m     99\u001b[0m prune_mask \u001b[38;5;241m=\u001b[39m (potential_encs \u001b[38;5;241m!=\u001b[39m row_index) \u001b[38;5;241m&\u001b[39m (potential_encs \u001b[38;5;241m!=\u001b[39m col_index)\n\u001b[0;32m--> 100\u001b[0m potential_encs \u001b[38;5;241m=\u001b[39m potential_encs[:, \u001b[43mprune_mask\u001b[49m\u001b[38;5;241;43m.\u001b[39;49m\u001b[43mall\u001b[49m\u001b[43m(\u001b[49m\u001b[43mdim\u001b[49m\u001b[38;5;241;43m=\u001b[39;49m\u001b[38;5;241;43m0\u001b[39;49m\u001b[43m)\u001b[49m]\n",
      "\u001b[0;31mKeyboardInterrupt\u001b[0m: "
     ]
    }
   ],
   "source": [
    "N           = 85000\n",
    "M           = 28\n",
    "T           = 365*15\n",
    "r_old_mean  = 0.2\n",
    "pexp        = 1.55\n",
    "lb          = 0.15\n",
    "ub          = 70\n",
    "window      = 365\n",
    "old_dist    = \"gamma\"\n",
    "alpha       = 2\n",
    "T_track     = 365*10\n",
    "n_couples   = N\n",
    "\n",
    "simulation = EpidemicSimulation(N,M,r_old_mean,pexp,old_dist,alpha,ub,lb)\n",
    "\n",
    "# Initialize peacetime parameters and run the simulation\n",
    "simulation.initialize_peace_time(T=T, Twindow=window, progress=True, all_conn=False,T_track=T_track,n_couples=n_couples)\n",
    "simulation.run_peace_time_simulation()"
   ]
  },
  {
   "cell_type": "code",
   "execution_count": null,
   "metadata": {},
   "outputs": [],
   "source": [
    "durations                   = np.array(simulation.get_partnership_durations(include_non_steady=True))\n",
    "num_partnerships            = len(durations)\n",
    "tot_encounters,tot_partners = simulation.analyze_encounters()\n",
    "print(f\"Number of partnerships: {num_partnerships}\")"
   ]
  },
  {
   "cell_type": "code",
   "execution_count": null,
   "metadata": {},
   "outputs": [],
   "source": [
    "active_mask         = tot_partners >= 1 \n",
    "steadymask          = simulation.get_steady_partners_mask()\n",
    "\n",
    "#print(f\"Mean  and std number of partners:                                   {(tot_partners[active_mask]).float().mean():.2f} +- {(tot_partners[active_mask]).float().std():.2f} pr yr (SEXUS: 5.7 +- 9.2)\")\n",
    "print(f\"Mean rate of encounters:                                            {(tot_encounters[active_mask]).float().mean()/52:.2f} pr wk (SEXUS: 0.74)\")\n",
    "print(f\"Median rate of encounters:                                          {(tot_encounters[active_mask]).float().median()/52:.2f} pr wk (SEXUS: 0.5)\")\n",
    "#print(f\"Fraction of people with exactly one partner the last year:          {(tot_partners == 1).sum()/(active_mask).sum():.2f} (SEXUS 0.41)\")\n",
    "print(f\"Fraction of inactive:                                               {(tot_partners == 0).sum()/N:.2f} (SEXUS 0.12)\")\n",
    "print(\"\")\n",
    "\n",
    "print(f\"Steady fraction:                                                    {sum(simulation.get_steady_partners_mask())/active_mask.sum():.2f}    (SEXUS 0.26)\") #Don't divide by two, since we are counting members, not partnerships\n",
    "print(f\"Probability of relationship lasting a year:                         {(durations > 365).sum()/num_partnerships:.2f}    (SEXUS: 0.33)\")\n",
    "\n",
    "print(\"\")\n",
    "\n",
    "print(f\"Mean number of yrly partners for members with partner:              {(tot_partners[active_mask &  steadymask]).float().mean():.2f} (SEXUS: 5.0 - (excluding partnerships newer than a year))\")\n",
    "print(f\"Mean number of yrly partners for members without partner:           {(tot_partners[active_mask & ~steadymask]).float().mean():.2f} (SEXUS: 5.8)\")\n",
    "print(\"\")\n",
    "print(f\"Mean  r_new among inactive:                                         {(simulation.r_new[~active_mask]).float().mean()*365:.2f} pr yr (total: {(simulation.r_new).float().mean()*365:.2f})\")\n",
    "print(f\"Mean  r_old among inactive:                                         {(simulation.r_old[~active_mask]).float().mean()*7:.2f} pr wk (total: {(simulation.r_old).float().mean()*7:.2f})\")\n",
    "\n",
    "# Extract the active partners\n",
    "active_partners = tot_partners[active_mask].numpy()\n",
    "\n",
    "# Step 1: Define the specific x-axis values\n",
    "x_values = np.array([1, 2, 3, 5, 10, 20, 50])\n",
    "\n",
    "# Step 2: Calculate CCDF for only these x-axis values\n",
    "ccdf = []\n",
    "n = len(active_partners)\n",
    "for value in x_values:\n",
    "    # Probability that a value is greater than or equal to `value`\n",
    "    prob = np.sum(active_partners >= value) / n\n",
    "    ccdf.append(prob)\n",
    "\n",
    "# Step 3: Plot CCDF for selected x-values\n",
    "plt.figure(figsize=(8, 6))\n",
    "plt.plot(x_values, ccdf, label='Simulation', marker='o')\n",
    "plt.plot(x_values,degree_dist_ccdf_sexus, marker='o',label = \"SEXUS\")\n",
    "plt.xticks(x_values)  # Show only the selected x-axis values\n",
    "plt.xlabel('Active Partners')\n",
    "plt.ylabel('P(X ≥ x)')\n",
    "plt.xscale(\"log\")\n",
    "plt.yscale(\"log\")\n",
    "plt.title('Complementary Cumulative Distribution Function (CCDF)')\n",
    "plt.grid(True,which = \"both\")\n",
    "plt.legend()\n",
    "plt.show()"
   ]
  },
  {
   "cell_type": "code",
   "execution_count": null,
   "metadata": {},
   "outputs": [],
   "source": [
    "simulation.plot_sanity_check()"
   ]
  },
  {
   "cell_type": "markdown",
   "metadata": {},
   "source": [
    "# Understanding the power law exponent"
   ]
  },
  {
   "cell_type": "code",
   "execution_count": null,
   "metadata": {},
   "outputs": [],
   "source": [
    "# Does the KDist distribution itself give a different exponent, due to the low lower bound?\n",
    "test_distribution = simulation.Kdist()\n",
    "plt.hist(test_distribution[test_distribution > 1],bins = 100,label = \"Simulation\")\n",
    "plt.yscale(\"log\")\n",
    "plt.xscale(\"log\")\n",
    "height = 5000\n",
    "plt.plot([1,80],[height,height*80**-1.8],label = r\"$\\gamma = 1.8$\")\n",
    "plt.plot([1,80],[height,height*80**-1.55],label = r\"$\\gamma = 1.5$\")\n",
    "plt.legend()"
   ]
  },
  {
   "cell_type": "code",
   "execution_count": null,
   "metadata": {},
   "outputs": [],
   "source": [
    "# Does the changed exponent continue farther up in the tail?\n",
    "\n",
    "x_values2 = np.array([1, 2, 3, 5, 10, 20, 50,100,200])\n",
    "\n",
    "# Step 2: Calculate CCDF for only these x-axis values\n",
    "ccdf2 = []\n",
    "n = len(active_partners)\n",
    "for value in x_values2:\n",
    "    # Probability that a value is greater than or equal to `value`\n",
    "    prob = np.sum(active_partners >= value) / n\n",
    "    ccdf2.append(prob)\n",
    "\n",
    "# Step 3: Plot CCDF for selected x-values\n",
    "plt.figure(figsize=(8, 6))\n",
    "plt.plot(x_values2, ccdf2, label='Simulation', marker='o')\n",
    "#plt.plot(x_values2,degree_dist_ccdf_sexus, marker='o',label = \"SEXUS\")\n",
    "plt.plot([1,200],[1,200**(-0.8)])\n",
    "plt.xticks(x_values2)  # Show only the selected x-axis values\n",
    "plt.xlabel('Active Partners')\n",
    "plt.ylabel('P(X ≥ x)')\n",
    "plt.xscale(\"log\")\n",
    "plt.yscale(\"log\")\n",
    "plt.title('Complementary Cumulative Distribution Function (CCDF)')\n",
    "plt.grid(True,which = \"both\")\n",
    "plt.legend()\n",
    "plt.show()"
   ]
  },
  {
   "cell_type": "code",
   "execution_count": null,
   "metadata": {},
   "outputs": [],
   "source": []
  }
 ],
 "metadata": {
  "kernelspec": {
   "display_name": "PandEnv",
   "language": "python",
   "name": "python3"
  },
  "language_info": {
   "codemirror_mode": {
    "name": "ipython",
    "version": 3
   },
   "file_extension": ".py",
   "mimetype": "text/x-python",
   "name": "python",
   "nbconvert_exporter": "python",
   "pygments_lexer": "ipython3",
   "version": "3.12.1"
  }
 },
 "nbformat": 4,
 "nbformat_minor": 2
}
