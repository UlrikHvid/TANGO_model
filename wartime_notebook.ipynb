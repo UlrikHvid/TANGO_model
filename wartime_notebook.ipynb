{
 "cells": [
  {
   "cell_type": "code",
   "execution_count": null,
   "metadata": {},
   "outputs": [],
   "source": [
    "import sys\n",
    "import matplotlib.pyplot as plt\n",
    "import importlib\n",
    "data_dir = \"Saved_networks/\"\n",
    "import tango_model as tango_model\n",
    "importlib.reload(sys.modules['tango_model'])\n",
    "from tango_model import *\n",
    "import scipy as sp\n",
    "from scipy.stats import nbinom\n",
    "import torch\n",
    "import networkx as nx\n",
    "import pandas as pd\n",
    "import os\n",
    "from PIL import Image\n",
    "import seaborn as sns\n",
    "from datetime import date"
   ]
  },
  {
   "cell_type": "code",
   "execution_count": null,
   "metadata": {},
   "outputs": [],
   "source": [
    "# Parameters (make sure these match the ones used during export)\n",
    "N = 170000\n",
    "ub = 300  # Adjust if needed\n",
    "\n",
    "# Load network data\n",
    "network_data = np.loadtxt(data_dir + f'Network_N={N:.1e}_ub={ub}.csv', delimiter=',', skiprows=1)\n",
    "rows = torch.tensor(network_data[:, 0], dtype=torch.int32)\n",
    "cols = torch.tensor(network_data[:, 1], dtype=torch.int32)\n",
    "strengths = torch.tensor(network_data[:, 2], dtype=torch.int32)\n",
    "\n",
    "# Reconstruct indices by repeating edges according to strengths\n",
    "indices_rows = rows.repeat_interleave(strengths)\n",
    "indices_cols = cols.repeat_interleave(strengths)\n",
    "indices = torch.stack([indices_rows, indices_cols])\n",
    "\n",
    "# Load member data\n",
    "member_data = np.loadtxt(data_dir + f'Member_data_N={N:.1e}_ub={ub}.csv', delimiter=',', skiprows=1)\n",
    "# Columns: seeking, r_new, r_old, tot_enc, tot_par\n",
    "seeking = torch.tensor(member_data[:, 0], dtype=torch.uint8)\n",
    "r_new = torch.tensor(member_data[:, 1], dtype=torch.float32)\n",
    "r_old = torch.tensor(member_data[:, 2], dtype=torch.float32)\n",
    "# tot_enc and tot_par are not needed for the simulation state\n",
    "\n",
    "# Load tot_log data\n",
    "tot_log_data = np.loadtxt(data_dir + f'tot_log_N={N:.1e}_ub={ub}.csv', delimiter=',', skiprows=1)\n",
    "log_rows = torch.tensor(tot_log_data[:, 0], dtype=torch.int32)\n",
    "log_cols = torch.tensor(tot_log_data[:, 1], dtype=torch.int32)\n",
    "log_t = torch.tensor(tot_log_data[:, 2], dtype=torch.int32)\n",
    "repeats = torch.tensor(tot_log_data[:, 3], dtype=torch.int32)\n",
    "\n",
    "# Reconstruct tot_log by expanding repeats\n",
    "expanded_rows = log_rows.repeat_interleave(repeats)\n",
    "expanded_cols = log_cols.repeat_interleave(repeats)\n",
    "expanded_t = log_t.repeat_interleave(repeats)\n",
    "tot_log = torch.stack([expanded_rows, expanded_cols, expanded_t])"
   ]
  },
  {
   "cell_type": "code",
   "execution_count": null,
   "metadata": {},
   "outputs": [],
   "source": [
    "M           = 28\n",
    "r_old_mean  = 0.2\n",
    "pexp        = 1.55\n",
    "lb          = 0.15\n",
    "window      = 365\n",
    "old_dist    = \"gamma\"\n",
    "alpha       = 2\n",
    "Tmax        = 120\n",
    "\n",
    "# Initialize the simulation object\n",
    "simulation = EpidemicSimulation(N,M,r_old_mean,pexp,old_dist,alpha,ub,lb)\n",
    "\n",
    "# Load the state into the simulation\n",
    "if M == 0:\n",
    "    indices = torch.tensor([[],[]])\n",
    "simulation.load_state(\n",
    "    indices=indices,\n",
    "    seeking=seeking,\n",
    "    r_new=r_new,\n",
    "    r_old=r_old,\n",
    "    tot_log=tot_log,\n",
    "    t=simulation.t  # You can set this to the appropriate time if needed\n",
    ")\n",
    "\n",
    "# Or to start the war-time simulation:\n",
    "p               = 0.48\n",
    "TE              = 5\n",
    "n               = 2\n",
    "pre_vac         = 0.13\n",
    "n_seed          = 10 #Number of initial imported cases\n",
    "\n",
    "import_date = date(2022, 5, 19)\n",
    "\n",
    "# Input parameters\n",
    "end_date = date(2022, 9, 1) #End of behavior change\n",
    "t0_date = date(2022, 7, 6) #Date of maximum decrease (fitted)\n",
    "k = 2.5/30.5 #Fitted and converted from month to day\n",
    "\n",
    "name        = \"Counterfactual\"  ###### !!!!!!! #######\n",
    "if name == \"Counterfactual\":\n",
    "    TI_changes  = None\n",
    "    TI0         = 18\n",
    "else:\n",
    "    # Generate sigmoid values\n",
    "    TSvals      = generate_sigmoid_values(import_date, end_date, t0_date, k)\n",
    "    TSvals      = np.array([val[1] for val in TSvals])\n",
    "    TIvals      = 2*(TSvals - TE)\n",
    "    TI0         = TIvals[0]\n",
    "    TI_changes  = torch.tensor([np.arange(1,len(TIvals)),TIvals[1:]])\n",
    "\n",
    "simulation.initialize_war_time(\n",
    "    TE=TE,\n",
    "    TI=TI0,\n",
    "    n=n,\n",
    "    p=p,\n",
    "    TI_changes=TI_changes,\n",
    ")\n",
    "simulation.iterate_war_time(n_seed=n_seed,Tmax=Tmax)"
   ]
  },
  {
   "cell_type": "code",
   "execution_count": null,
   "metadata": {},
   "outputs": [],
   "source": [
    "plt.plot(simulation.I)\n",
    "plt.yscale(\"log\")"
   ]
  },
  {
   "cell_type": "code",
   "execution_count": null,
   "metadata": {},
   "outputs": [],
   "source": [
    "color_palette = [\"#3d348b\",\"#7678ed\",\"#f7b801\",\"#f18701\",\"#f35b04\"]"
   ]
  },
  {
   "cell_type": "code",
   "execution_count": null,
   "metadata": {},
   "outputs": [],
   "source": [
    "mask = (simulation.infection_times > 0) & (simulation.infection_times < 60) # Exclude imports and only count people infected in exponential phase\n",
    "num_in_data = mask.sum() # Number of infected in period\n",
    "mu = simulation.secondary_infs[mask].float().mean()\n",
    "mu\n",
    "var = simulation.secondary_infs[mask].float().var()\n",
    "\n",
    "# Dispersion parameter k for negative binomial: k = mu**2 / (var - mu)\n",
    "dispersion_k = mu**2 / (var - mu)\n",
    "print(f\"Dispersion parameter: {dispersion_k:.2f}\")\n",
    "print(f\"R0: {mu:.2f}\")"
   ]
  },
  {
   "cell_type": "code",
   "execution_count": null,
   "metadata": {},
   "outputs": [],
   "source": [
    "# Calculate negative binomial parameters from mu and var\n",
    "mu_val = float(mu)\n",
    "var_val = float(var)\n",
    "p_nb = mu_val / var_val\n",
    "n_nb = mu_val * p_nb / (1 - p_nb)\n",
    "\n",
    "# Plot histogram of data\n",
    "plt.hist(simulation.secondary_infs[mask].cpu().numpy(), bins=np.arange(30), density=True, alpha=0.6, label='Data')\n",
    "\n",
    "# Plot negative binomial PMF\n",
    "x = np.arange(0, 29)\n",
    "pmf = nbinom.pmf(x, n_nb, p_nb)\n",
    "plt.plot(x, pmf, 'o-', label='Negative Binomial fit')\n",
    "\n",
    "plt.yscale(\"log\")\n",
    "plt.xlabel('Secondary infections')\n",
    "plt.ylabel('Probability')\n",
    "plt.legend()\n",
    "plt.show()"
   ]
  },
  {
   "cell_type": "code",
   "execution_count": null,
   "metadata": {},
   "outputs": [],
   "source": [
    "# Plot the complementary cumulative distribution function (CCDF)\n",
    "data = simulation.secondary_infs[mask].cpu().numpy()\n",
    "counts, bin_edges = np.histogram(data, bins=np.arange(30), density=True)\n",
    "x = np.arange(0,30)\n",
    "# empirical\n",
    "ccdf_data = [(data >= k).mean() for k in x]\n",
    "nb_ccdf = 1 - nbinom.cdf(x-1, n_nb, p_nb)\n",
    "plt.plot(x, ccdf_data,  marker='o',markersize = 6, label='Simulation',color = color_palette[-1])\n",
    "plt.plot(x, nb_ccdf,    marker=None, label='Negative binomial fit',color = color_palette[1])\n",
    "plt.axhline(1/num_in_data,label = \"Data resolution\",color = \"k\",ls = \"dotted\")\n",
    "plt.yscale('log')\n",
    "labelsize = 17\n",
    "ticksize = 14\n",
    "legendsize = 14\n",
    "plt.xlabel('Secondary infections',fontsize = labelsize)\n",
    "plt.ylabel('Cumulative distribution',fontsize = labelsize)\n",
    "plt.xticks(fontsize = ticksize)\n",
    "plt.yticks(fontsize = ticksize)\n",
    "plt.legend(fontsize = legendsize)\n",
    "plt.show()\n",
    "#ccdf = 1 - np.cumsum(counts) * np.diff(bin_edges)\n",
    "\n",
    "# plt.plot(bin_edges[1:], ccdf, marker='o', linestyle='-', label='Data CCDF')\n",
    "\n",
    "# # Negative binomial CCDF\n",
    "# plt.plot(x, nb_ccdf, 'o-', label='Negative Binomial fit CCDF')\n",
    "# plt.ylim(1e-4,1)\n",
    "\n",
    "# plt.yscale(\"log\")\n",
    "# plt.xlabel('Secondary infections')\n",
    "# plt.ylabel('CCDF')\n",
    "# plt.legend()\n",
    "# plt.show()"
   ]
  },
  {
   "cell_type": "code",
   "execution_count": null,
   "metadata": {},
   "outputs": [],
   "source": [
    "np.unique(data)"
   ]
  },
  {
   "cell_type": "code",
   "execution_count": null,
   "metadata": {},
   "outputs": [],
   "source": [
    "europe_pop = 744 #million\n",
    "simulation.R[105]*62/europe_pop #Cases per million"
   ]
  },
  {
   "cell_type": "code",
   "execution_count": null,
   "metadata": {},
   "outputs": [],
   "source": [
    "time_points, gen_time,ser_int = simulation.moving_window_gen_ser(window_size=10)\n",
    "plt.plot(time_points[:-20],ser_int[:-20])\n",
    "plt.ylim(0,20)"
   ]
  },
  {
   "cell_type": "code",
   "execution_count": null,
   "metadata": {},
   "outputs": [],
   "source": [
    "time_points, k_arr = simulation.moving_window_k(20)\n",
    "plt.plot(time_points,k_arr)"
   ]
  },
  {
   "cell_type": "code",
   "execution_count": null,
   "metadata": {},
   "outputs": [],
   "source": []
  },
  {
   "cell_type": "code",
   "execution_count": null,
   "metadata": {},
   "outputs": [],
   "source": []
  }
 ],
 "metadata": {
  "kernelspec": {
   "display_name": "PandEnv",
   "language": "python",
   "name": "python3"
  },
  "language_info": {
   "codemirror_mode": {
    "name": "ipython",
    "version": 3
   },
   "file_extension": ".py",
   "mimetype": "text/x-python",
   "name": "python",
   "nbconvert_exporter": "python",
   "pygments_lexer": "ipython3",
   "version": "3.12.1"
  }
 },
 "nbformat": 4,
 "nbformat_minor": 2
}
